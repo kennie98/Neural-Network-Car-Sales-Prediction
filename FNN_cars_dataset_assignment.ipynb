{
 "cells": [
  {
   "cell_type": "code",
   "execution_count": 0,
   "metadata": {
    "colab": {},
    "colab_type": "code",
    "id": "Lzs1-XQ33VhS",
    "outputId": "391985f7-8832-4e40-f99f-b495ca352ce1"
   },
   "outputs": [
    {
     "name": "stderr",
     "output_type": "stream",
     "text": [
      "Using TensorFlow backend.\n"
     ]
    }
   ],
   "source": [
    "import matplotlib.pyplot as plt\n",
    "import numpy as np\n",
    "import pandas as pd\n",
    "from sklearn.model_selection import train_test_split\n",
    "from sklearn.model_selection import cross_val_score\n",
    "from sklearn.model_selection import KFold\n",
    "from sklearn.pipeline import Pipeline\n",
    "from sklearn.preprocessing import MinMaxScaler\n",
    "from keras.models import Sequential\n",
    "from keras.layers import Dense\n",
    "from keras.wrappers.scikit_learn import KerasRegressor"
   ]
  },
  {
   "cell_type": "markdown",
   "metadata": {
    "colab_type": "text",
    "id": "M2N2fzR23VhZ"
   },
   "source": [
    "For this example, use a linear activation function within the keras library to create a regression-based neural network. \n",
    "Essentially, we are trying to predict the value of a potential car sale (i.e. how much a particular person will spend on buying a car) for a customer based on the following attributes:\n",
    "\n",
    "-Age\n",
    "\n",
    "-Gender\n",
    "\n",
    "-Average miles driven per day\n",
    "\n",
    "-Personal debt\n",
    "\n",
    "-Monthly income"
   ]
  },
  {
   "cell_type": "code",
   "execution_count": 0,
   "metadata": {
    "colab": {},
    "colab_type": "code",
    "id": "5V-P3V22DQjd"
   },
   "outputs": [],
   "source": [
    "## Load the car.csv  to your colab instance "
   ]
  },
  {
   "cell_type": "code",
   "execution_count": 0,
   "metadata": {
    "colab": {},
    "colab_type": "code",
    "id": "TE1hW2eF3Vha",
    "outputId": "30ebbe2c-dfca-4526-ef8c-f0e25de5dfcd"
   },
   "outputs": [
    {
     "name": "stdout",
     "output_type": "stream",
     "text": [
      "MinMaxScaler(copy=True, feature_range=(0, 1))\n",
      "MinMaxScaler(copy=True, feature_range=(0, 1))\n"
     ]
    }
   ],
   "source": [
    "dataset=np.loadtxt(\"cars.csv\", delimiter=\",\")\n",
    "x=dataset[:,0:5]\n",
    "y=dataset[:,5]\n",
    "y=np.reshape(y, (-1,1))\n",
    "scaler = MinMaxScaler()\n",
    "print(scaler.fit(x))\n",
    "print(scaler.fit(y))\n",
    "xscale=scaler.transform(x)\n",
    "yscale=scaler.transform(y)"
   ]
  },
  {
   "cell_type": "code",
   "execution_count": 0,
   "metadata": {
    "colab": {},
    "colab_type": "code",
    "id": "030S2NH23Vhe"
   },
   "outputs": [],
   "source": [
    "X_train, X_test, y_train, y_test = train_test_split(xscale, yscale)"
   ]
  },
  {
   "cell_type": "markdown",
   "metadata": {
    "colab_type": "text",
    "id": "ZoFIftXa3Vhh"
   },
   "source": [
    "# Create the model."
   ]
  },
  {
   "cell_type": "code",
   "execution_count": 0,
   "metadata": {
    "colab": {},
    "colab_type": "code",
    "id": "LqLz8WRk3Vhi",
    "outputId": "f92056fa-1908-4391-d641-89a676f95ffd"
   },
   "outputs": [
    {
     "name": "stdout",
     "output_type": "stream",
     "text": [
      "_________________________________________________________________\n",
      "Layer (type)                 Output Shape              Param #   \n",
      "=================================================================\n",
      "dense_1 (Dense)              (None, 12)                72        \n",
      "_________________________________________________________________\n",
      "dense_2 (Dense)              (None, 8)                 104       \n",
      "_________________________________________________________________\n",
      "dense_3 (Dense)              (None, 1)                 9         \n",
      "=================================================================\n",
      "Total params: 185\n",
      "Trainable params: 185\n",
      "Non-trainable params: 0\n",
      "_________________________________________________________________\n"
     ]
    }
   ],
   "source": []
  },
  {
   "cell_type": "markdown",
   "metadata": {
    "colab_type": "text",
    "id": "x5RkBMpt3Vhm"
   },
   "source": [
    "# compile/fit the model"
   ]
  },
  {
   "cell_type": "code",
   "execution_count": 0,
   "metadata": {
    "colab": {},
    "colab_type": "code",
    "id": "_toE-CX43Vhn",
    "outputId": "6e8edb90-8d60-49cf-88f4-351b9c0921ab"
   },
   "outputs": [
    {
     "name": "stdout",
     "output_type": "stream",
     "text": [
      "Train on 577 samples, validate on 145 samples\n",
      "Epoch 1/150\n",
      "577/577 [==============================] - 0s - loss: 0.2593 - mean_squared_error: 0.2593 - mean_absolute_error: 0.3947 - val_loss: 0.2211 - val_mean_squared_error: 0.2211 - val_mean_absolute_error: 0.3480\n",
      "Epoch 2/150\n",
      "577/577 [==============================] - 0s - loss: 0.2227 - mean_squared_error: 0.2227 - mean_absolute_error: 0.3621 - val_loss: 0.1963 - val_mean_squared_error: 0.1963 - val_mean_absolute_error: 0.3226\n",
      "Epoch 3/150\n",
      "577/577 [==============================] - 0s - loss: 0.1988 - mean_squared_error: 0.1988 - mean_absolute_error: 0.3385 - val_loss: 0.1763 - val_mean_squared_error: 0.1763 - val_mean_absolute_error: 0.3017\n",
      "Epoch 4/150\n",
      "577/577 [==============================] - 0s - loss: 0.1776 - mean_squared_error: 0.1776 - mean_absolute_error: 0.3173 - val_loss: 0.1569 - val_mean_squared_error: 0.1569 - val_mean_absolute_error: 0.2828\n",
      "Epoch 5/150\n",
      "577/577 [==============================] - 0s - loss: 0.1562 - mean_squared_error: 0.1562 - mean_absolute_error: 0.2986 - val_loss: 0.1381 - val_mean_squared_error: 0.1381 - val_mean_absolute_error: 0.2664\n",
      "Epoch 6/150\n",
      "577/577 [==============================] - 0s - loss: 0.1367 - mean_squared_error: 0.1367 - mean_absolute_error: 0.2805 - val_loss: 0.1207 - val_mean_squared_error: 0.1207 - val_mean_absolute_error: 0.2533\n",
      "Epoch 7/150\n",
      "577/577 [==============================] - 0s - loss: 0.1186 - mean_squared_error: 0.1186 - mean_absolute_error: 0.2662 - val_loss: 0.1053 - val_mean_squared_error: 0.1053 - val_mean_absolute_error: 0.2430\n",
      "Epoch 8/150\n",
      "577/577 [==============================] - 0s - loss: 0.1018 - mean_squared_error: 0.1018 - mean_absolute_error: 0.2533 - val_loss: 0.0923 - val_mean_squared_error: 0.0923 - val_mean_absolute_error: 0.2342\n",
      "Epoch 9/150\n",
      "577/577 [==============================] - 0s - loss: 0.0882 - mean_squared_error: 0.0882 - mean_absolute_error: 0.2432 - val_loss: 0.0810 - val_mean_squared_error: 0.0810 - val_mean_absolute_error: 0.2260\n",
      "Epoch 10/150\n",
      "577/577 [==============================] - 0s - loss: 0.0762 - mean_squared_error: 0.0762 - mean_absolute_error: 0.2338 - val_loss: 0.0719 - val_mean_squared_error: 0.0719 - val_mean_absolute_error: 0.2197\n",
      "Epoch 11/150\n",
      "577/577 [==============================] - 0s - loss: 0.0669 - mean_squared_error: 0.0669 - mean_absolute_error: 0.2254 - val_loss: 0.0645 - val_mean_squared_error: 0.0645 - val_mean_absolute_error: 0.2150\n",
      "Epoch 12/150\n",
      "577/577 [==============================] - 0s - loss: 0.0594 - mean_squared_error: 0.0594 - mean_absolute_error: 0.2175 - val_loss: 0.0590 - val_mean_squared_error: 0.0590 - val_mean_absolute_error: 0.2111\n",
      "Epoch 13/150\n",
      "577/577 [==============================] - 0s - loss: 0.0537 - mean_squared_error: 0.0537 - mean_absolute_error: 0.2095 - val_loss: 0.0546 - val_mean_squared_error: 0.0546 - val_mean_absolute_error: 0.2063\n",
      "Epoch 14/150\n",
      "577/577 [==============================] - 0s - loss: 0.0494 - mean_squared_error: 0.0494 - mean_absolute_error: 0.2024 - val_loss: 0.0508 - val_mean_squared_error: 0.0508 - val_mean_absolute_error: 0.2002\n",
      "Epoch 15/150\n",
      "577/577 [==============================] - 0s - loss: 0.0456 - mean_squared_error: 0.0456 - mean_absolute_error: 0.1946 - val_loss: 0.0472 - val_mean_squared_error: 0.0472 - val_mean_absolute_error: 0.1931\n",
      "Epoch 16/150\n",
      "577/577 [==============================] - 0s - loss: 0.0420 - mean_squared_error: 0.0420 - mean_absolute_error: 0.1864 - val_loss: 0.0434 - val_mean_squared_error: 0.0434 - val_mean_absolute_error: 0.1846\n",
      "Epoch 17/150\n",
      "577/577 [==============================] - 0s - loss: 0.0386 - mean_squared_error: 0.0386 - mean_absolute_error: 0.1772 - val_loss: 0.0390 - val_mean_squared_error: 0.0390 - val_mean_absolute_error: 0.1726\n",
      "Epoch 18/150\n",
      "577/577 [==============================] - 0s - loss: 0.0347 - mean_squared_error: 0.0347 - mean_absolute_error: 0.1647 - val_loss: 0.0336 - val_mean_squared_error: 0.0336 - val_mean_absolute_error: 0.1546\n",
      "Epoch 19/150\n",
      "577/577 [==============================] - 0s - loss: 0.0304 - mean_squared_error: 0.0304 - mean_absolute_error: 0.1504 - val_loss: 0.0300 - val_mean_squared_error: 0.0300 - val_mean_absolute_error: 0.1442\n",
      "Epoch 20/150\n",
      "577/577 [==============================] - 0s - loss: 0.0276 - mean_squared_error: 0.0276 - mean_absolute_error: 0.1407 - val_loss: 0.0271 - val_mean_squared_error: 0.0271 - val_mean_absolute_error: 0.1352\n",
      "Epoch 21/150\n",
      "577/577 [==============================] - 0s - loss: 0.0254 - mean_squared_error: 0.0254 - mean_absolute_error: 0.1317 - val_loss: 0.0250 - val_mean_squared_error: 0.0250 - val_mean_absolute_error: 0.1276\n",
      "Epoch 22/150\n",
      "577/577 [==============================] - 0s - loss: 0.0240 - mean_squared_error: 0.0240 - mean_absolute_error: 0.1256 - val_loss: 0.0235 - val_mean_squared_error: 0.0235 - val_mean_absolute_error: 0.1228\n",
      "Epoch 23/150\n",
      "577/577 [==============================] - 0s - loss: 0.0231 - mean_squared_error: 0.0231 - mean_absolute_error: 0.1235 - val_loss: 0.0224 - val_mean_squared_error: 0.0224 - val_mean_absolute_error: 0.1196\n",
      "Epoch 24/150\n",
      "577/577 [==============================] - 0s - loss: 0.0223 - mean_squared_error: 0.0223 - mean_absolute_error: 0.1192 - val_loss: 0.0216 - val_mean_squared_error: 0.0216 - val_mean_absolute_error: 0.1142\n",
      "Epoch 25/150\n",
      "577/577 [==============================] - 0s - loss: 0.0217 - mean_squared_error: 0.0217 - mean_absolute_error: 0.1158 - val_loss: 0.0209 - val_mean_squared_error: 0.0209 - val_mean_absolute_error: 0.1112\n",
      "Epoch 26/150\n",
      "577/577 [==============================] - 0s - loss: 0.0212 - mean_squared_error: 0.0212 - mean_absolute_error: 0.1143 - val_loss: 0.0202 - val_mean_squared_error: 0.0202 - val_mean_absolute_error: 0.1082\n",
      "Epoch 27/150\n",
      "577/577 [==============================] - 0s - loss: 0.0208 - mean_squared_error: 0.0208 - mean_absolute_error: 0.1115 - val_loss: 0.0198 - val_mean_squared_error: 0.0198 - val_mean_absolute_error: 0.1061\n",
      "Epoch 28/150\n",
      "577/577 [==============================] - 0s - loss: 0.0205 - mean_squared_error: 0.0205 - mean_absolute_error: 0.1108 - val_loss: 0.0195 - val_mean_squared_error: 0.0195 - val_mean_absolute_error: 0.1057\n",
      "Epoch 29/150\n",
      "577/577 [==============================] - 0s - loss: 0.0202 - mean_squared_error: 0.0202 - mean_absolute_error: 0.1100 - val_loss: 0.0193 - val_mean_squared_error: 0.0193 - val_mean_absolute_error: 0.1039\n",
      "Epoch 30/150\n",
      "577/577 [==============================] - 0s - loss: 0.0201 - mean_squared_error: 0.0201 - mean_absolute_error: 0.1076 - val_loss: 0.0190 - val_mean_squared_error: 0.0190 - val_mean_absolute_error: 0.1019\n",
      "Epoch 31/150\n",
      "577/577 [==============================] - 0s - loss: 0.0200 - mean_squared_error: 0.0200 - mean_absolute_error: 0.1092 - val_loss: 0.0190 - val_mean_squared_error: 0.0190 - val_mean_absolute_error: 0.1037\n",
      "Epoch 32/150\n",
      "577/577 [==============================] - 0s - loss: 0.0197 - mean_squared_error: 0.0197 - mean_absolute_error: 0.1064 - val_loss: 0.0188 - val_mean_squared_error: 0.0188 - val_mean_absolute_error: 0.1001\n",
      "Epoch 33/150\n",
      "577/577 [==============================] - 0s - loss: 0.0195 - mean_squared_error: 0.0195 - mean_absolute_error: 0.1057 - val_loss: 0.0187 - val_mean_squared_error: 0.0187 - val_mean_absolute_error: 0.1013\n",
      "Epoch 34/150\n",
      "577/577 [==============================] - 0s - loss: 0.0194 - mean_squared_error: 0.0194 - mean_absolute_error: 0.1056 - val_loss: 0.0186 - val_mean_squared_error: 0.0186 - val_mean_absolute_error: 0.1008\n",
      "Epoch 35/150\n",
      "577/577 [==============================] - 0s - loss: 0.0192 - mean_squared_error: 0.0192 - mean_absolute_error: 0.1046 - val_loss: 0.0186 - val_mean_squared_error: 0.0186 - val_mean_absolute_error: 0.0996\n",
      "Epoch 36/150\n",
      "577/577 [==============================] - 0s - loss: 0.0191 - mean_squared_error: 0.0191 - mean_absolute_error: 0.1034 - val_loss: 0.0185 - val_mean_squared_error: 0.0185 - val_mean_absolute_error: 0.0991\n",
      "Epoch 37/150\n",
      "577/577 [==============================] - 0s - loss: 0.0190 - mean_squared_error: 0.0190 - mean_absolute_error: 0.1035 - val_loss: 0.0185 - val_mean_squared_error: 0.0185 - val_mean_absolute_error: 0.1005\n",
      "Epoch 38/150\n",
      "577/577 [==============================] - 0s - loss: 0.0190 - mean_squared_error: 0.0190 - mean_absolute_error: 0.1044 - val_loss: 0.0184 - val_mean_squared_error: 0.0184 - val_mean_absolute_error: 0.1000\n",
      "Epoch 39/150\n",
      "577/577 [==============================] - 0s - loss: 0.0189 - mean_squared_error: 0.0189 - mean_absolute_error: 0.1026 - val_loss: 0.0185 - val_mean_squared_error: 0.0185 - val_mean_absolute_error: 0.0981\n",
      "Epoch 40/150\n",
      "577/577 [==============================] - 0s - loss: 0.0188 - mean_squared_error: 0.0188 - mean_absolute_error: 0.1023 - val_loss: 0.0184 - val_mean_squared_error: 0.0184 - val_mean_absolute_error: 0.0998\n",
      "Epoch 41/150\n",
      "577/577 [==============================] - 0s - loss: 0.0188 - mean_squared_error: 0.0188 - mean_absolute_error: 0.1025 - val_loss: 0.0184 - val_mean_squared_error: 0.0184 - val_mean_absolute_error: 0.0988\n",
      "Epoch 42/150\n",
      "577/577 [==============================] - 0s - loss: 0.0187 - mean_squared_error: 0.0187 - mean_absolute_error: 0.1024 - val_loss: 0.0183 - val_mean_squared_error: 0.0183 - val_mean_absolute_error: 0.0990\n",
      "Epoch 43/150\n",
      "577/577 [==============================] - 0s - loss: 0.0187 - mean_squared_error: 0.0187 - mean_absolute_error: 0.1015 - val_loss: 0.0184 - val_mean_squared_error: 0.0184 - val_mean_absolute_error: 0.0985\n",
      "Epoch 44/150\n",
      "577/577 [==============================] - 0s - loss: 0.0186 - mean_squared_error: 0.0186 - mean_absolute_error: 0.1015 - val_loss: 0.0184 - val_mean_squared_error: 0.0184 - val_mean_absolute_error: 0.0994\n",
      "Epoch 45/150\n",
      "577/577 [==============================] - 0s - loss: 0.0186 - mean_squared_error: 0.0186 - mean_absolute_error: 0.1016 - val_loss: 0.0183 - val_mean_squared_error: 0.0183 - val_mean_absolute_error: 0.0990\n",
      "Epoch 46/150\n",
      "577/577 [==============================] - 0s - loss: 0.0185 - mean_squared_error: 0.0185 - mean_absolute_error: 0.1012 - val_loss: 0.0183 - val_mean_squared_error: 0.0183 - val_mean_absolute_error: 0.0983\n",
      "Epoch 47/150\n",
      "577/577 [==============================] - 0s - loss: 0.0185 - mean_squared_error: 0.0185 - mean_absolute_error: 0.1009 - val_loss: 0.0183 - val_mean_squared_error: 0.0183 - val_mean_absolute_error: 0.0986\n",
      "Epoch 48/150\n",
      "577/577 [==============================] - 0s - loss: 0.0185 - mean_squared_error: 0.0185 - mean_absolute_error: 0.1013 - val_loss: 0.0183 - val_mean_squared_error: 0.0183 - val_mean_absolute_error: 0.0991\n",
      "Epoch 49/150\n",
      "577/577 [==============================] - 0s - loss: 0.0185 - mean_squared_error: 0.0185 - mean_absolute_error: 0.1007 - val_loss: 0.0184 - val_mean_squared_error: 0.0184 - val_mean_absolute_error: 0.0985\n",
      "Epoch 50/150\n",
      "577/577 [==============================] - 0s - loss: 0.0185 - mean_squared_error: 0.0185 - mean_absolute_error: 0.1004 - val_loss: 0.0184 - val_mean_squared_error: 0.0184 - val_mean_absolute_error: 0.0989\n",
      "Epoch 51/150\n",
      "577/577 [==============================] - 0s - loss: 0.0185 - mean_squared_error: 0.0185 - mean_absolute_error: 0.1011 - val_loss: 0.0184 - val_mean_squared_error: 0.0184 - val_mean_absolute_error: 0.0990\n",
      "Epoch 52/150\n",
      "577/577 [==============================] - 0s - loss: 0.0184 - mean_squared_error: 0.0184 - mean_absolute_error: 0.1004 - val_loss: 0.0184 - val_mean_squared_error: 0.0184 - val_mean_absolute_error: 0.0989\n",
      "Epoch 53/150\n",
      "577/577 [==============================] - 0s - loss: 0.0184 - mean_squared_error: 0.0184 - mean_absolute_error: 0.1004 - val_loss: 0.0184 - val_mean_squared_error: 0.0184 - val_mean_absolute_error: 0.0992\n",
      "Epoch 54/150\n",
      "577/577 [==============================] - 0s - loss: 0.0184 - mean_squared_error: 0.0184 - mean_absolute_error: 0.1005 - val_loss: 0.0184 - val_mean_squared_error: 0.0184 - val_mean_absolute_error: 0.0985\n",
      "Epoch 55/150\n",
      "577/577 [==============================] - 0s - loss: 0.0184 - mean_squared_error: 0.0184 - mean_absolute_error: 0.1001 - val_loss: 0.0184 - val_mean_squared_error: 0.0184 - val_mean_absolute_error: 0.0988\n",
      "Epoch 56/150\n",
      "577/577 [==============================] - 0s - loss: 0.0184 - mean_squared_error: 0.0184 - mean_absolute_error: 0.1006 - val_loss: 0.0184 - val_mean_squared_error: 0.0184 - val_mean_absolute_error: 0.1000\n",
      "Epoch 57/150\n",
      "577/577 [==============================] - 0s - loss: 0.0184 - mean_squared_error: 0.0184 - mean_absolute_error: 0.1003 - val_loss: 0.0185 - val_mean_squared_error: 0.0185 - val_mean_absolute_error: 0.0985\n",
      "Epoch 58/150\n",
      "577/577 [==============================] - 0s - loss: 0.0185 - mean_squared_error: 0.0185 - mean_absolute_error: 0.1005 - val_loss: 0.0184 - val_mean_squared_error: 0.0184 - val_mean_absolute_error: 0.0996\n",
      "Epoch 59/150\n",
      "577/577 [==============================] - 0s - loss: 0.0184 - mean_squared_error: 0.0184 - mean_absolute_error: 0.1001 - val_loss: 0.0184 - val_mean_squared_error: 0.0184 - val_mean_absolute_error: 0.0986\n",
      "Epoch 60/150\n",
      "577/577 [==============================] - 0s - loss: 0.0184 - mean_squared_error: 0.0184 - mean_absolute_error: 0.1002 - val_loss: 0.0185 - val_mean_squared_error: 0.0185 - val_mean_absolute_error: 0.1003\n",
      "Epoch 61/150\n",
      "577/577 [==============================] - 0s - loss: 0.0184 - mean_squared_error: 0.0184 - mean_absolute_error: 0.1003 - val_loss: 0.0185 - val_mean_squared_error: 0.0185 - val_mean_absolute_error: 0.0990\n",
      "Epoch 62/150\n",
      "577/577 [==============================] - 0s - loss: 0.0185 - mean_squared_error: 0.0185 - mean_absolute_error: 0.1009 - val_loss: 0.0184 - val_mean_squared_error: 0.0184 - val_mean_absolute_error: 0.0993\n",
      "Epoch 63/150\n",
      "577/577 [==============================] - 0s - loss: 0.0184 - mean_squared_error: 0.0184 - mean_absolute_error: 0.0999 - val_loss: 0.0185 - val_mean_squared_error: 0.0185 - val_mean_absolute_error: 0.0987\n",
      "Epoch 64/150\n",
      "577/577 [==============================] - 0s - loss: 0.0184 - mean_squared_error: 0.0184 - mean_absolute_error: 0.0999 - val_loss: 0.0185 - val_mean_squared_error: 0.0185 - val_mean_absolute_error: 0.0991\n",
      "Epoch 65/150\n",
      "577/577 [==============================] - 0s - loss: 0.0185 - mean_squared_error: 0.0185 - mean_absolute_error: 0.1014 - val_loss: 0.0186 - val_mean_squared_error: 0.0186 - val_mean_absolute_error: 0.1008\n",
      "Epoch 66/150\n",
      "577/577 [==============================] - 0s - loss: 0.0186 - mean_squared_error: 0.0186 - mean_absolute_error: 0.1005 - val_loss: 0.0185 - val_mean_squared_error: 0.0185 - val_mean_absolute_error: 0.0993\n",
      "Epoch 67/150\n",
      "577/577 [==============================] - 0s - loss: 0.0183 - mean_squared_error: 0.0183 - mean_absolute_error: 0.1001 - val_loss: 0.0185 - val_mean_squared_error: 0.0185 - val_mean_absolute_error: 0.1003\n",
      "Epoch 68/150\n",
      "577/577 [==============================] - 0s - loss: 0.0184 - mean_squared_error: 0.0184 - mean_absolute_error: 0.1005 - val_loss: 0.0185 - val_mean_squared_error: 0.0185 - val_mean_absolute_error: 0.0992\n",
      "Epoch 69/150\n",
      "577/577 [==============================] - 0s - loss: 0.0184 - mean_squared_error: 0.0184 - mean_absolute_error: 0.0999 - val_loss: 0.0185 - val_mean_squared_error: 0.0185 - val_mean_absolute_error: 0.0997\n",
      "Epoch 70/150\n",
      "577/577 [==============================] - 0s - loss: 0.0183 - mean_squared_error: 0.0183 - mean_absolute_error: 0.0997 - val_loss: 0.0185 - val_mean_squared_error: 0.0185 - val_mean_absolute_error: 0.0990\n",
      "Epoch 71/150\n",
      "577/577 [==============================] - 0s - loss: 0.0183 - mean_squared_error: 0.0183 - mean_absolute_error: 0.0999 - val_loss: 0.0185 - val_mean_squared_error: 0.0185 - val_mean_absolute_error: 0.0998\n",
      "Epoch 72/150\n",
      "577/577 [==============================] - 0s - loss: 0.0184 - mean_squared_error: 0.0184 - mean_absolute_error: 0.1001 - val_loss: 0.0185 - val_mean_squared_error: 0.0185 - val_mean_absolute_error: 0.0996\n",
      "Epoch 73/150\n",
      "577/577 [==============================] - 0s - loss: 0.0183 - mean_squared_error: 0.0183 - mean_absolute_error: 0.0998 - val_loss: 0.0185 - val_mean_squared_error: 0.0185 - val_mean_absolute_error: 0.0997\n",
      "Epoch 74/150\n",
      "577/577 [==============================] - 0s - loss: 0.0183 - mean_squared_error: 0.0183 - mean_absolute_error: 0.1002 - val_loss: 0.0184 - val_mean_squared_error: 0.0184 - val_mean_absolute_error: 0.0989\n",
      "Epoch 75/150\n"
     ]
    },
    {
     "name": "stdout",
     "output_type": "stream",
     "text": [
      "577/577 [==============================] - 0s - loss: 0.0184 - mean_squared_error: 0.0184 - mean_absolute_error: 0.0996 - val_loss: 0.0185 - val_mean_squared_error: 0.0185 - val_mean_absolute_error: 0.0993\n",
      "Epoch 76/150\n",
      "577/577 [==============================] - 0s - loss: 0.0184 - mean_squared_error: 0.0184 - mean_absolute_error: 0.0999 - val_loss: 0.0184 - val_mean_squared_error: 0.0184 - val_mean_absolute_error: 0.0993\n",
      "Epoch 77/150\n",
      "577/577 [==============================] - 0s - loss: 0.0184 - mean_squared_error: 0.0184 - mean_absolute_error: 0.1001 - val_loss: 0.0185 - val_mean_squared_error: 0.0185 - val_mean_absolute_error: 0.0996\n",
      "Epoch 78/150\n",
      "577/577 [==============================] - 0s - loss: 0.0183 - mean_squared_error: 0.0183 - mean_absolute_error: 0.0999 - val_loss: 0.0186 - val_mean_squared_error: 0.0186 - val_mean_absolute_error: 0.1006\n",
      "Epoch 79/150\n",
      "577/577 [==============================] - 0s - loss: 0.0184 - mean_squared_error: 0.0184 - mean_absolute_error: 0.0996 - val_loss: 0.0185 - val_mean_squared_error: 0.0185 - val_mean_absolute_error: 0.0994\n",
      "Epoch 80/150\n",
      "577/577 [==============================] - 0s - loss: 0.0183 - mean_squared_error: 0.0183 - mean_absolute_error: 0.0999 - val_loss: 0.0184 - val_mean_squared_error: 0.0184 - val_mean_absolute_error: 0.0993\n",
      "Epoch 81/150\n",
      "577/577 [==============================] - 0s - loss: 0.0184 - mean_squared_error: 0.0184 - mean_absolute_error: 0.0997 - val_loss: 0.0185 - val_mean_squared_error: 0.0185 - val_mean_absolute_error: 0.0991\n",
      "Epoch 82/150\n",
      "577/577 [==============================] - 0s - loss: 0.0184 - mean_squared_error: 0.0184 - mean_absolute_error: 0.1003 - val_loss: 0.0185 - val_mean_squared_error: 0.0185 - val_mean_absolute_error: 0.1003\n",
      "Epoch 83/150\n",
      "577/577 [==============================] - 0s - loss: 0.0183 - mean_squared_error: 0.0183 - mean_absolute_error: 0.0997 - val_loss: 0.0185 - val_mean_squared_error: 0.0185 - val_mean_absolute_error: 0.0996\n",
      "Epoch 84/150\n",
      "577/577 [==============================] - 0s - loss: 0.0184 - mean_squared_error: 0.0184 - mean_absolute_error: 0.0999 - val_loss: 0.0185 - val_mean_squared_error: 0.0185 - val_mean_absolute_error: 0.0998\n",
      "Epoch 85/150\n",
      "577/577 [==============================] - 0s - loss: 0.0184 - mean_squared_error: 0.0184 - mean_absolute_error: 0.1001 - val_loss: 0.0185 - val_mean_squared_error: 0.0185 - val_mean_absolute_error: 0.0995\n",
      "Epoch 86/150\n",
      "577/577 [==============================] - 0s - loss: 0.0184 - mean_squared_error: 0.0184 - mean_absolute_error: 0.1002 - val_loss: 0.0186 - val_mean_squared_error: 0.0186 - val_mean_absolute_error: 0.1010\n",
      "Epoch 87/150\n",
      "577/577 [==============================] - 0s - loss: 0.0184 - mean_squared_error: 0.0184 - mean_absolute_error: 0.0999 - val_loss: 0.0185 - val_mean_squared_error: 0.0185 - val_mean_absolute_error: 0.0992\n",
      "Epoch 88/150\n",
      "577/577 [==============================] - 0s - loss: 0.0183 - mean_squared_error: 0.0183 - mean_absolute_error: 0.0997 - val_loss: 0.0185 - val_mean_squared_error: 0.0185 - val_mean_absolute_error: 0.0999\n",
      "Epoch 89/150\n",
      "577/577 [==============================] - 0s - loss: 0.0183 - mean_squared_error: 0.0183 - mean_absolute_error: 0.1002 - val_loss: 0.0185 - val_mean_squared_error: 0.0185 - val_mean_absolute_error: 0.0993\n",
      "Epoch 90/150\n",
      "577/577 [==============================] - 0s - loss: 0.0184 - mean_squared_error: 0.0184 - mean_absolute_error: 0.0999 - val_loss: 0.0185 - val_mean_squared_error: 0.0185 - val_mean_absolute_error: 0.0997\n",
      "Epoch 91/150\n",
      "577/577 [==============================] - 0s - loss: 0.0183 - mean_squared_error: 0.0183 - mean_absolute_error: 0.0998 - val_loss: 0.0185 - val_mean_squared_error: 0.0185 - val_mean_absolute_error: 0.0998\n",
      "Epoch 92/150\n",
      "577/577 [==============================] - 0s - loss: 0.0183 - mean_squared_error: 0.0183 - mean_absolute_error: 0.0997 - val_loss: 0.0185 - val_mean_squared_error: 0.0185 - val_mean_absolute_error: 0.0991\n",
      "Epoch 93/150\n",
      "577/577 [==============================] - 0s - loss: 0.0184 - mean_squared_error: 0.0184 - mean_absolute_error: 0.0999 - val_loss: 0.0185 - val_mean_squared_error: 0.0185 - val_mean_absolute_error: 0.0995\n",
      "Epoch 94/150\n",
      "577/577 [==============================] - 0s - loss: 0.0183 - mean_squared_error: 0.0183 - mean_absolute_error: 0.0996 - val_loss: 0.0185 - val_mean_squared_error: 0.0185 - val_mean_absolute_error: 0.0998\n",
      "Epoch 95/150\n",
      "577/577 [==============================] - 0s - loss: 0.0184 - mean_squared_error: 0.0184 - mean_absolute_error: 0.1001 - val_loss: 0.0185 - val_mean_squared_error: 0.0185 - val_mean_absolute_error: 0.0999\n",
      "Epoch 96/150\n",
      "577/577 [==============================] - 0s - loss: 0.0184 - mean_squared_error: 0.0184 - mean_absolute_error: 0.0997 - val_loss: 0.0184 - val_mean_squared_error: 0.0184 - val_mean_absolute_error: 0.0992\n",
      "Epoch 97/150\n",
      "577/577 [==============================] - 0s - loss: 0.0183 - mean_squared_error: 0.0183 - mean_absolute_error: 0.1000 - val_loss: 0.0185 - val_mean_squared_error: 0.0185 - val_mean_absolute_error: 0.1005\n",
      "Epoch 98/150\n",
      "577/577 [==============================] - 0s - loss: 0.0183 - mean_squared_error: 0.0183 - mean_absolute_error: 0.0996 - val_loss: 0.0186 - val_mean_squared_error: 0.0186 - val_mean_absolute_error: 0.0996\n",
      "Epoch 99/150\n",
      "577/577 [==============================] - 0s - loss: 0.0183 - mean_squared_error: 0.0183 - mean_absolute_error: 0.0995 - val_loss: 0.0185 - val_mean_squared_error: 0.0185 - val_mean_absolute_error: 0.0995\n",
      "Epoch 100/150\n",
      "577/577 [==============================] - 0s - loss: 0.0184 - mean_squared_error: 0.0184 - mean_absolute_error: 0.1008 - val_loss: 0.0186 - val_mean_squared_error: 0.0186 - val_mean_absolute_error: 0.1005\n",
      "Epoch 101/150\n",
      "577/577 [==============================] - 0s - loss: 0.0183 - mean_squared_error: 0.0183 - mean_absolute_error: 0.0997 - val_loss: 0.0186 - val_mean_squared_error: 0.0186 - val_mean_absolute_error: 0.0993\n",
      "Epoch 102/150\n",
      "577/577 [==============================] - 0s - loss: 0.0184 - mean_squared_error: 0.0184 - mean_absolute_error: 0.0998 - val_loss: 0.0185 - val_mean_squared_error: 0.0185 - val_mean_absolute_error: 0.1000\n",
      "Epoch 103/150\n",
      "577/577 [==============================] - 0s - loss: 0.0183 - mean_squared_error: 0.0183 - mean_absolute_error: 0.0998 - val_loss: 0.0185 - val_mean_squared_error: 0.0185 - val_mean_absolute_error: 0.0992\n",
      "Epoch 104/150\n",
      "577/577 [==============================] - 0s - loss: 0.0183 - mean_squared_error: 0.0183 - mean_absolute_error: 0.0996 - val_loss: 0.0185 - val_mean_squared_error: 0.0185 - val_mean_absolute_error: 0.0998\n",
      "Epoch 105/150\n",
      "577/577 [==============================] - 0s - loss: 0.0183 - mean_squared_error: 0.0183 - mean_absolute_error: 0.1001 - val_loss: 0.0185 - val_mean_squared_error: 0.0185 - val_mean_absolute_error: 0.0997\n",
      "Epoch 106/150\n",
      "577/577 [==============================] - 0s - loss: 0.0183 - mean_squared_error: 0.0183 - mean_absolute_error: 0.0997 - val_loss: 0.0185 - val_mean_squared_error: 0.0185 - val_mean_absolute_error: 0.0997\n",
      "Epoch 107/150\n",
      "577/577 [==============================] - 0s - loss: 0.0183 - mean_squared_error: 0.0183 - mean_absolute_error: 0.0998 - val_loss: 0.0185 - val_mean_squared_error: 0.0185 - val_mean_absolute_error: 0.0994\n",
      "Epoch 108/150\n",
      "577/577 [==============================] - 0s - loss: 0.0184 - mean_squared_error: 0.0184 - mean_absolute_error: 0.1006 - val_loss: 0.0185 - val_mean_squared_error: 0.0185 - val_mean_absolute_error: 0.0997\n",
      "Epoch 109/150\n",
      "577/577 [==============================] - 0s - loss: 0.0185 - mean_squared_error: 0.0185 - mean_absolute_error: 0.0995 - val_loss: 0.0186 - val_mean_squared_error: 0.0186 - val_mean_absolute_error: 0.0995\n",
      "Epoch 110/150\n",
      "577/577 [==============================] - 0s - loss: 0.0183 - mean_squared_error: 0.0183 - mean_absolute_error: 0.0996 - val_loss: 0.0185 - val_mean_squared_error: 0.0185 - val_mean_absolute_error: 0.1004\n",
      "Epoch 111/150\n",
      "577/577 [==============================] - 0s - loss: 0.0183 - mean_squared_error: 0.0183 - mean_absolute_error: 0.1000 - val_loss: 0.0185 - val_mean_squared_error: 0.0185 - val_mean_absolute_error: 0.0998\n",
      "Epoch 112/150\n",
      "577/577 [==============================] - 0s - loss: 0.0183 - mean_squared_error: 0.0183 - mean_absolute_error: 0.0994 - val_loss: 0.0185 - val_mean_squared_error: 0.0185 - val_mean_absolute_error: 0.0993\n",
      "Epoch 113/150\n",
      "577/577 [==============================] - 0s - loss: 0.0184 - mean_squared_error: 0.0184 - mean_absolute_error: 0.1000 - val_loss: 0.0185 - val_mean_squared_error: 0.0185 - val_mean_absolute_error: 0.0993\n",
      "Epoch 114/150\n",
      "577/577 [==============================] - 0s - loss: 0.0183 - mean_squared_error: 0.0183 - mean_absolute_error: 0.0997 - val_loss: 0.0185 - val_mean_squared_error: 0.0185 - val_mean_absolute_error: 0.0994\n",
      "Epoch 115/150\n",
      "577/577 [==============================] - 0s - loss: 0.0183 - mean_squared_error: 0.0183 - mean_absolute_error: 0.0998 - val_loss: 0.0185 - val_mean_squared_error: 0.0185 - val_mean_absolute_error: 0.0998\n",
      "Epoch 116/150\n",
      "577/577 [==============================] - 0s - loss: 0.0183 - mean_squared_error: 0.0183 - mean_absolute_error: 0.0999 - val_loss: 0.0185 - val_mean_squared_error: 0.0185 - val_mean_absolute_error: 0.0996\n",
      "Epoch 117/150\n",
      "577/577 [==============================] - 0s - loss: 0.0183 - mean_squared_error: 0.0183 - mean_absolute_error: 0.0996 - val_loss: 0.0185 - val_mean_squared_error: 0.0185 - val_mean_absolute_error: 0.0996\n",
      "Epoch 118/150\n",
      "577/577 [==============================] - 0s - loss: 0.0183 - mean_squared_error: 0.0183 - mean_absolute_error: 0.1000 - val_loss: 0.0185 - val_mean_squared_error: 0.0185 - val_mean_absolute_error: 0.0994\n",
      "Epoch 119/150\n",
      "577/577 [==============================] - 0s - loss: 0.0183 - mean_squared_error: 0.0183 - mean_absolute_error: 0.0997 - val_loss: 0.0185 - val_mean_squared_error: 0.0185 - val_mean_absolute_error: 0.0996\n",
      "Epoch 120/150\n",
      "577/577 [==============================] - 0s - loss: 0.0183 - mean_squared_error: 0.0183 - mean_absolute_error: 0.1000 - val_loss: 0.0185 - val_mean_squared_error: 0.0185 - val_mean_absolute_error: 0.0998\n",
      "Epoch 121/150\n",
      "577/577 [==============================] - 0s - loss: 0.0183 - mean_squared_error: 0.0183 - mean_absolute_error: 0.0996 - val_loss: 0.0186 - val_mean_squared_error: 0.0186 - val_mean_absolute_error: 0.0993\n",
      "Epoch 122/150\n",
      "577/577 [==============================] - 0s - loss: 0.0183 - mean_squared_error: 0.0183 - mean_absolute_error: 0.0998 - val_loss: 0.0185 - val_mean_squared_error: 0.0185 - val_mean_absolute_error: 0.0998\n",
      "Epoch 123/150\n",
      "577/577 [==============================] - 0s - loss: 0.0184 - mean_squared_error: 0.0184 - mean_absolute_error: 0.1000 - val_loss: 0.0185 - val_mean_squared_error: 0.0185 - val_mean_absolute_error: 0.0998\n",
      "Epoch 124/150\n",
      "577/577 [==============================] - 0s - loss: 0.0184 - mean_squared_error: 0.0184 - mean_absolute_error: 0.1000 - val_loss: 0.0185 - val_mean_squared_error: 0.0185 - val_mean_absolute_error: 0.1000\n",
      "Epoch 125/150\n",
      "577/577 [==============================] - 0s - loss: 0.0183 - mean_squared_error: 0.0183 - mean_absolute_error: 0.1003 - val_loss: 0.0185 - val_mean_squared_error: 0.0185 - val_mean_absolute_error: 0.0998\n",
      "Epoch 126/150\n",
      "577/577 [==============================] - 0s - loss: 0.0183 - mean_squared_error: 0.0183 - mean_absolute_error: 0.0996 - val_loss: 0.0185 - val_mean_squared_error: 0.0185 - val_mean_absolute_error: 0.0994\n",
      "Epoch 127/150\n",
      "577/577 [==============================] - 0s - loss: 0.0184 - mean_squared_error: 0.0184 - mean_absolute_error: 0.1000 - val_loss: 0.0185 - val_mean_squared_error: 0.0185 - val_mean_absolute_error: 0.0995\n",
      "Epoch 128/150\n",
      "577/577 [==============================] - 0s - loss: 0.0184 - mean_squared_error: 0.0184 - mean_absolute_error: 0.1000 - val_loss: 0.0185 - val_mean_squared_error: 0.0185 - val_mean_absolute_error: 0.0999\n",
      "Epoch 129/150\n",
      "577/577 [==============================] - 0s - loss: 0.0183 - mean_squared_error: 0.0183 - mean_absolute_error: 0.0998 - val_loss: 0.0185 - val_mean_squared_error: 0.0185 - val_mean_absolute_error: 0.0994\n",
      "Epoch 130/150\n",
      "577/577 [==============================] - 0s - loss: 0.0184 - mean_squared_error: 0.0184 - mean_absolute_error: 0.0998 - val_loss: 0.0185 - val_mean_squared_error: 0.0185 - val_mean_absolute_error: 0.1003\n",
      "Epoch 131/150\n",
      "577/577 [==============================] - 0s - loss: 0.0183 - mean_squared_error: 0.0183 - mean_absolute_error: 0.1004 - val_loss: 0.0185 - val_mean_squared_error: 0.0185 - val_mean_absolute_error: 0.1000\n",
      "Epoch 132/150\n",
      "577/577 [==============================] - 0s - loss: 0.0183 - mean_squared_error: 0.0183 - mean_absolute_error: 0.0998 - val_loss: 0.0185 - val_mean_squared_error: 0.0185 - val_mean_absolute_error: 0.0993\n",
      "Epoch 133/150\n",
      "577/577 [==============================] - 0s - loss: 0.0183 - mean_squared_error: 0.0183 - mean_absolute_error: 0.0997 - val_loss: 0.0185 - val_mean_squared_error: 0.0185 - val_mean_absolute_error: 0.0998\n",
      "Epoch 134/150\n",
      "577/577 [==============================] - 0s - loss: 0.0184 - mean_squared_error: 0.0184 - mean_absolute_error: 0.0998 - val_loss: 0.0185 - val_mean_squared_error: 0.0185 - val_mean_absolute_error: 0.0994\n",
      "Epoch 135/150\n",
      "577/577 [==============================] - 0s - loss: 0.0183 - mean_squared_error: 0.0183 - mean_absolute_error: 0.0996 - val_loss: 0.0185 - val_mean_squared_error: 0.0185 - val_mean_absolute_error: 0.0999\n",
      "Epoch 136/150\n",
      "577/577 [==============================] - 0s - loss: 0.0183 - mean_squared_error: 0.0183 - mean_absolute_error: 0.1002 - val_loss: 0.0185 - val_mean_squared_error: 0.0185 - val_mean_absolute_error: 0.1001\n",
      "Epoch 137/150\n",
      "577/577 [==============================] - 0s - loss: 0.0183 - mean_squared_error: 0.0183 - mean_absolute_error: 0.0999 - val_loss: 0.0185 - val_mean_squared_error: 0.0185 - val_mean_absolute_error: 0.0997\n",
      "Epoch 138/150\n",
      "577/577 [==============================] - 0s - loss: 0.0183 - mean_squared_error: 0.0183 - mean_absolute_error: 0.0998 - val_loss: 0.0185 - val_mean_squared_error: 0.0185 - val_mean_absolute_error: 0.1002\n",
      "Epoch 139/150\n",
      "577/577 [==============================] - 0s - loss: 0.0183 - mean_squared_error: 0.0183 - mean_absolute_error: 0.1001 - val_loss: 0.0184 - val_mean_squared_error: 0.0184 - val_mean_absolute_error: 0.0992\n",
      "Epoch 140/150\n",
      "577/577 [==============================] - 0s - loss: 0.0183 - mean_squared_error: 0.0183 - mean_absolute_error: 0.0995 - val_loss: 0.0184 - val_mean_squared_error: 0.0184 - val_mean_absolute_error: 0.0990\n",
      "Epoch 141/150\n",
      "577/577 [==============================] - 0s - loss: 0.0183 - mean_squared_error: 0.0183 - mean_absolute_error: 0.1000 - val_loss: 0.0184 - val_mean_squared_error: 0.0184 - val_mean_absolute_error: 0.0993\n",
      "Epoch 142/150\n",
      "577/577 [==============================] - 0s - loss: 0.0183 - mean_squared_error: 0.0183 - mean_absolute_error: 0.0995 - val_loss: 0.0185 - val_mean_squared_error: 0.0185 - val_mean_absolute_error: 0.0998\n",
      "Epoch 143/150\n",
      "577/577 [==============================] - 0s - loss: 0.0183 - mean_squared_error: 0.0183 - mean_absolute_error: 0.0999 - val_loss: 0.0185 - val_mean_squared_error: 0.0185 - val_mean_absolute_error: 0.1003\n",
      "Epoch 144/150\n",
      "577/577 [==============================] - 0s - loss: 0.0183 - mean_squared_error: 0.0183 - mean_absolute_error: 0.0999 - val_loss: 0.0185 - val_mean_squared_error: 0.0185 - val_mean_absolute_error: 0.0996\n",
      "Epoch 145/150\n",
      "577/577 [==============================] - 0s - loss: 0.0184 - mean_squared_error: 0.0184 - mean_absolute_error: 0.1000 - val_loss: 0.0185 - val_mean_squared_error: 0.0185 - val_mean_absolute_error: 0.0993\n",
      "Epoch 146/150\n",
      "577/577 [==============================] - 0s - loss: 0.0184 - mean_squared_error: 0.0184 - mean_absolute_error: 0.1009 - val_loss: 0.0185 - val_mean_squared_error: 0.0185 - val_mean_absolute_error: 0.1006\n",
      "Epoch 147/150\n",
      "577/577 [==============================] - 0s - loss: 0.0182 - mean_squared_error: 0.0182 - mean_absolute_error: 0.0996 - val_loss: 0.0185 - val_mean_squared_error: 0.0185 - val_mean_absolute_error: 0.0991\n",
      "Epoch 148/150\n",
      "577/577 [==============================] - 0s - loss: 0.0184 - mean_squared_error: 0.0184 - mean_absolute_error: 0.0996 - val_loss: 0.0184 - val_mean_squared_error: 0.0184 - val_mean_absolute_error: 0.0999\n",
      "Epoch 149/150\n"
     ]
    },
    {
     "name": "stdout",
     "output_type": "stream",
     "text": [
      "577/577 [==============================] - 0s - loss: 0.0183 - mean_squared_error: 0.0183 - mean_absolute_error: 0.1003 - val_loss: 0.0184 - val_mean_squared_error: 0.0184 - val_mean_absolute_error: 0.0995\n",
      "Epoch 150/150\n",
      "577/577 [==============================] - 0s - loss: 0.0183 - mean_squared_error: 0.0183 - mean_absolute_error: 0.0995 - val_loss: 0.0184 - val_mean_squared_error: 0.0184 - val_mean_absolute_error: 0.0996\n"
     ]
    }
   ],
   "source": []
  },
  {
   "cell_type": "code",
   "execution_count": 0,
   "metadata": {
    "colab": {},
    "colab_type": "code",
    "id": "_tSC2-HI3Vhr"
   },
   "outputs": [],
   "source": [
    "Xnew = np.array([[40, 0, 26, 9000, 8000]])"
   ]
  },
  {
   "cell_type": "markdown",
   "metadata": {
    "colab_type": "text",
    "id": "lPnUg-7M3Vhv"
   },
   "source": [
    "# predict the new set of data"
   ]
  },
  {
   "cell_type": "code",
   "execution_count": 0,
   "metadata": {
    "colab": {},
    "colab_type": "code",
    "id": "SlJfVsVU3Vhw",
    "outputId": "6cca3c78-c02d-4802-b38e-b1586f13d68a"
   },
   "outputs": [
    {
     "name": "stdout",
     "output_type": "stream",
     "text": [
      "X=[  40    0   26 9000 8000], Predicted=[3319.52]\n"
     ]
    }
   ],
   "source": []
  },
  {
   "cell_type": "code",
   "execution_count": 0,
   "metadata": {
    "colab": {},
    "colab_type": "code",
    "id": "grG7qDpy3Vh4"
   },
   "outputs": [],
   "source": []
  }
 ],
 "metadata": {
  "colab": {
   "collapsed_sections": [],
   "name": "FNN_cars_dataset_assignment.ipynb",
   "provenance": []
  },
  "kernelspec": {
   "display_name": "Python 3",
   "language": "python",
   "name": "python3"
  },
  "language_info": {
   "codemirror_mode": {
    "name": "ipython",
    "version": 3
   },
   "file_extension": ".py",
   "mimetype": "text/x-python",
   "name": "python",
   "nbconvert_exporter": "python",
   "pygments_lexer": "ipython3",
   "version": "3.7.3"
  }
 },
 "nbformat": 4,
 "nbformat_minor": 1
}
